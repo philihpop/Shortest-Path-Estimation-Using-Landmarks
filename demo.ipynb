{
 "cells": [
  {
   "cell_type": "code",
   "execution_count": 4,
   "metadata": {},
   "outputs": [
    {
     "name": "stdout",
     "output_type": "stream",
     "text": [
      "\n",
      "Processing reddit_body...\n",
      "Computing clustering coefficient...\n",
      "Computing distances...\n"
     ]
    },
    {
     "name": "stderr",
     "output_type": "stream",
     "text": [
      "100%|██████████| 1000/1000 [00:15<00:00, 65.24it/s]\n"
     ]
    },
    {
     "name": "stdout",
     "output_type": "stream",
     "text": [
      "\n",
      "Processing reddit_title...\n",
      "Computing clustering coefficient...\n",
      "Computing distances...\n"
     ]
    },
    {
     "name": "stderr",
     "output_type": "stream",
     "text": [
      "100%|██████████| 1000/1000 [00:23<00:00, 41.90it/s]\n"
     ]
    },
    {
     "name": "stdout",
     "output_type": "stream",
     "text": [
      "\n",
      "Table 1: Dataset Characteristics\n",
      "--------------------------------------------------------------------------------\n",
      "     Dataset    |V|     |E| ℓ₀.₉ ℓ₀.₅    c\n",
      " reddit_body 35,776 137,821  6.0  4.0 0.14\n",
      "reddit_title 54,075 234,792  5.0  4.0 0.13\n",
      "--------------------------------------------------------------------------------\n",
      "Computing distances...\n"
     ]
    },
    {
     "name": "stderr",
     "output_type": "stream",
     "text": [
      "100%|██████████| 1000/1000 [00:15<00:00, 63.39it/s]\n"
     ]
    },
    {
     "name": "stdout",
     "output_type": "stream",
     "text": [
      "Computing distances...\n"
     ]
    },
    {
     "name": "stderr",
     "output_type": "stream",
     "text": [
      "100%|██████████| 1000/1000 [00:24<00:00, 41.64it/s]\n"
     ]
    },
    {
     "data": {
      "image/png": "[encoded data removed]",
      "text/plain": [
       "<Figure size 1200x400 with 2 Axes>"
      ]
     },
     "metadata": {},
     "output_type": "display_data"
    },
    {
     "name": "stdout",
     "output_type": "stream",
     "text": [
      "\n",
      "Processing error rates...\n",
      "Error loading basic_centrality_selection for reddit_body: name 'cal_path' is not defined\n",
      "Error loading basic_centrality_selection for reddit_title: name 'cal_path' is not defined\n",
      "Error loading basic_degree_selection for reddit_body: name 'cal_path' is not defined\n",
      "Error loading basic_degree_selection for reddit_title: name 'cal_path' is not defined\n",
      "Error loading constrained_centrality_selection for reddit_body: name 'cal_path' is not defined\n",
      "Error loading constrained_centrality_selection for reddit_title: name 'cal_path' is not defined\n",
      "Error loading constrained_degree_selection for reddit_body: name 'cal_path' is not defined\n",
      "Error loading constrained_degree_selection for reddit_title: name 'cal_path' is not defined\n",
      "Error loading partitioning_centrality_selection for reddit_body: name 'cal_path' is not defined\n",
      "Error loading partitioning_centrality_selection for reddit_title: name 'cal_path' is not defined\n",
      "Error loading partitioning_degree_selection for reddit_body: name 'cal_path' is not defined\n",
      "Error loading partitioning_degree_selection for reddit_title: name 'cal_path' is not defined\n",
      "\n",
      "Table 2: Error rates\n",
      "--------------------------------------------------------------------------------\n",
      "                           Method reddit_body reddit_title\n",
      "       basic_centrality_selection         N/A          N/A\n",
      "           basic_degree_selection         N/A          N/A\n",
      " constrained_centrality_selection         N/A          N/A\n",
      "     constrained_degree_selection         N/A          N/A\n",
      "partitioning_centrality_selection         N/A          N/A\n",
      "    partitioning_degree_selection         N/A          N/A\n"
     ]
    }
   ],
   "source": [
    "import networkx as nx\n",
    "import matplotlib.pyplot as plt\n",
    "import numpy as np\n",
    "import pandas as pd\n",
    "import json\n",
    "from tqdm import tqdm\n",
    "\n",
    "# Notebook setup\n",
    "plt.rcParams['figure.figsize'] = [12, 4]\n",
    "plt.rcParams['figure.dpi'] = 100\n",
    "plt.rcParams['axes.grid'] = True\n",
    "plt.rcParams['grid.alpha'] = 0.3\n",
    "\n",
    "def get_distance_distribution(G):\n",
    "    \"\"\"Compute the distribution of shortest path lengths.\"\"\"\n",
    "    distances = []\n",
    "    nodes = list(G.nodes())\n",
    "    sample_size = min(1000, len(nodes))\n",
    "    sample_nodes = np.random.choice(nodes, sample_size, replace=False)\n",
    "    \n",
    "    print(\"Computing distances...\")\n",
    "    for source in tqdm(sample_nodes):\n",
    "        lengths = dict(nx.single_source_shortest_path_length(G, source))\n",
    "        distances.extend(lengths.values())\n",
    "    \n",
    "    return np.array(distances)\n",
    "\n",
    "# Load graphs and compute statistics\n",
    "networks = ['reddit_body', 'reddit_title']\n",
    "graphs = {}\n",
    "stats = []\n",
    "\n",
    "for network in networks:\n",
    "    print(f\"\\nProcessing {network}...\")\n",
    "    G = nx.read_gexf(f\"data to graph/{network}.gexf\")\n",
    "    graphs[network] = G\n",
    "    \n",
    "    n = G.number_of_nodes()\n",
    "    m = G.number_of_edges()\n",
    "    \n",
    "    print(\"Computing clustering coefficient...\")\n",
    "    cc = nx.average_clustering(G)\n",
    "    \n",
    "    distances = get_distance_distribution(G)\n",
    "    l_90 = np.percentile(distances, 90)  # effective diameter\n",
    "    l_50 = np.percentile(distances, 50)  # median diameter\n",
    "    \n",
    "    stats.append({\n",
    "        'Dataset': network,\n",
    "        '|V|': f\"{n:,}\",\n",
    "        '|E|': f\"{m:,}\",\n",
    "        'ℓ₀.₉': f\"{l_90:.1f}\",\n",
    "        'ℓ₀.₅': f\"{l_50:.1f}\",\n",
    "        'c': f\"{cc:.2f}\"\n",
    "    })\n",
    "\n",
    "# Create and display statistics table\n",
    "stats_df = pd.DataFrame(stats)\n",
    "print(\"\\nTable 1: Dataset Characteristics\")\n",
    "print(\"-\" * 80)\n",
    "print(stats_df.to_string(index=False))\n",
    "print(\"-\" * 80)\n",
    "\n",
    "# Plot distance distributions\n",
    "fig, axes = plt.subplots(1, len(networks))\n",
    "if len(networks) == 1:\n",
    "    axes = [axes]\n",
    "\n",
    "for ax, (name, G) in zip(axes, graphs.items()):\n",
    "    distances = get_distance_distribution(G)\n",
    "    counts, bins, _ = ax.hist(distances, bins=30, density=True, alpha=0.7)\n",
    "    ax.set_title(f\"{name} dataset\")\n",
    "    ax.set_xlabel(\"distance\")\n",
    "    ax.set_ylabel(\"frequency\")\n",
    "    ax.grid(True, alpha=0.3)\n",
    "\n",
    "plt.tight_layout()\n",
    "plt.show()\n",
    "\n",
    "# Process error rates\n",
    "print(\"\\nProcessing error rates...\")\n",
    "\n",
    "# Define methods and prepare data structures\n",
    "methods = []\n",
    "error_data = []\n",
    "\n",
    "selections = {\n",
    "    'basic_selection': ['basic_centrality_selection', 'basic_degree_selection'],\n",
    "    'constrained_selection': ['constrained_centrality_selection', 'constrained_degree_selection'],\n",
    "    'partitioning_selection': ['partitioning_centrality_selection', 'partitioning_degree_selection']\n",
    "}\n",
    "\n",
    "# Collect data for tables\n",
    "for selection_type, selection_methods in selections.items():\n",
    "    for method in selection_methods:\n",
    "        method_data = {'Method': method}\n",
    "        \n",
    "        for network in networks:\n",
    "            # Load error rate for this method and network\n",
    "            try:\n",
    "                with open(f\"{selection_type}/pre_compute distance/{method}_{network}.json\") as f:\n",
    "                    data = json.load(f)\n",
    "                    error_rate = cal_path.compute_error(random_pairs)  # You'll need to adjust this based on your actual error computation\n",
    "                    method_data[f\"{network}_error\"] = f\"{error_rate:.4f}\"\n",
    "            except Exception as e:\n",
    "                method_data[f\"{network}_error\"] = \"N/A\"\n",
    "                print(f\"Error loading {method} for {network}: {e}\")\n",
    "        \n",
    "        error_data.append(method_data)\n",
    "\n",
    "# Create DataFrame and display results\n",
    "error_df = pd.DataFrame(error_data)\n",
    "\n",
    "# Format columns for display\n",
    "columns = ['Method'] + [f\"{network}_error\" for network in networks]\n",
    "error_df = error_df[columns]\n",
    "error_df.columns = ['Method'] + networks  # Simplify column names\n",
    "\n",
    "print(\"\\nTable 2: Error rates\")\n",
    "print(\"-\" * 80)\n",
    "print(error_df.to_string(index=False))"
   ]
  },
  {
   "cell_type": "code",
   "execution_count": 5,
   "metadata": {},
   "outputs": [
    {
     "name": "stdout",
     "output_type": "stream",
     "text": [
      "\n",
      "Processing error rates...\n",
      "\n",
      "Table 2: Error rates\n",
      "--------------------------------------------------------------------------------\n",
      "                           Method reddit_body reddit_title\n",
      "       basic_centrality_selection      0.6700       0.6424\n",
      "           basic_degree_selection      0.1648       0.1549\n",
      " constrained_centrality_selection      0.8719       0.4929\n",
      "     constrained_degree_selection      0.2021       0.1131\n",
      "partitioning_centrality_selection      0.3310       0.8394\n",
      "    partitioning_degree_selection      0.3409       0.3864\n"
     ]
    }
   ],
   "source": [
    "from cal_distance import path_calculator\n",
    "import random\n",
    "\n",
    "def get_random_node_pairs(graph, num_pairs):\n",
    "    nodes = list(graph.nodes())\n",
    "    if len(nodes) < 2:\n",
    "        raise ValueError(\"The graph must contain at least two nodes\")\n",
    "    node_pairs = set()\n",
    "    while len(node_pairs) < num_pairs:\n",
    "        pair = tuple(random.sample(nodes, 2))\n",
    "        if pair not in node_pairs:\n",
    "            node_pairs.add(pair)\n",
    "    return list(node_pairs)\n",
    "\n",
    "# Process error rates\n",
    "print(\"\\nProcessing error rates...\")\n",
    "\n",
    "# Define methods and prepare data structures\n",
    "methods = []\n",
    "error_data = []\n",
    "\n",
    "selections = {\n",
    "    'basic_selection': ['basic_centrality_selection', 'basic_degree_selection'],\n",
    "    'constrained_selection': ['constrained_centrality_selection', 'constrained_degree_selection'],\n",
    "    'partitioning_selection': ['partitioning_centrality_selection', 'partitioning_degree_selection']\n",
    "}\n",
    "\n",
    "# Initialize path calculator\n",
    "cal_path = path_calculator()\n",
    "\n",
    "# Collect data for tables\n",
    "for selection_type, selection_methods in selections.items():\n",
    "    for method in selection_methods:\n",
    "        method_data = {'Method': method}\n",
    "        \n",
    "        for network in networks:\n",
    "            try:\n",
    "                # Load graph\n",
    "                graph_file_path = f\"data to graph/{network}.gexf\"\n",
    "                graph = nx.read_gexf(graph_file_path)\n",
    "                \n",
    "                # Generate random pairs\n",
    "                random_pairs = get_random_node_pairs(graph, 100)\n",
    "                \n",
    "                # Load distances and compute error\n",
    "                dis_file_path = f\"{selection_type}/pre_compute distance/{method}_{network}.json\"\n",
    "                if cal_path.load_distances(graph, dis_file_path):\n",
    "                    error_rate = cal_path.compute_error(random_pairs)\n",
    "                    method_data[f\"{network}_error\"] = f\"{error_rate:.4f}\"\n",
    "                else:\n",
    "                    method_data[f\"{network}_error\"] = \"Load Failed\"\n",
    "            except Exception as e:\n",
    "                method_data[f\"{network}_error\"] = \"Error\"\n",
    "                print(f\"Error loading {method} for {network}: {str(e)}\")\n",
    "        \n",
    "        error_data.append(method_data)\n",
    "\n",
    "# Create DataFrame and display results\n",
    "error_df = pd.DataFrame(error_data)\n",
    "\n",
    "# Format columns for display\n",
    "columns = ['Method'] + [f\"{network}_error\" for network in networks]\n",
    "error_df = error_df[columns]\n",
    "error_df.columns = ['Method'] + networks  # Simplify column names\n",
    "\n",
    "print(\"\\nTable 2: Error rates\")\n",
    "print(\"-\" * 80)\n",
    "print(error_df.to_string(index=False))"
   ]
  }
 ],
 "metadata": {
  "kernelspec": {
   "display_name": "sna",
   "language": "python",
   "name": "python3"
  },
  "language_info": {
   "codemirror_mode": {
    "name": "ipython",
    "version": 3
   },
   "file_extension": ".py",
   "mimetype": "text/x-python",
   "name": "python",
   "nbconvert_exporter": "python",
   "pygments_lexer": "ipython3",
   "version": "3.12.7"
  }
 },
 "nbformat": 4,
 "nbformat_minor": 2
}
